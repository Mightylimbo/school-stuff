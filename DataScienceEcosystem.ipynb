{
 "cells": [
  {
   "cell_type": "markdown",
   "id": "396b4109-c580-4810-83db-3a75963c77e9",
   "metadata": {},
   "source": [
    "# Data science tools and ecosystem"
   ]
  },
  {
   "cell_type": "markdown",
   "id": "4e4d9502-9275-4a6b-809d-7b29a8ac4136",
   "metadata": {},
   "source": [
    "in this notebook, Data science tools are summerized"
   ]
  },
  {
   "cell_type": "markdown",
   "id": "53e6ab37-9428-4e79-b18d-848fd5d5f5fb",
   "metadata": {},
   "source": [
    "#### OBJECTIVES:\n",
    "- list of popular coding languages\n",
    "- list of common librarys in data science\n",
    "- table of Data science tools \n",
    "- mathmatic epressions \n"
   ]
  },
  {
   "cell_type": "markdown",
   "id": "e0dbe201-3f6c-48cd-80e0-012e728eb82e",
   "metadata": {},
   "source": [
    "the most popular coding languages are:\n",
    " 1. python\n",
    " 2. R\n",
    " 3. SQL\n",
    " 4. java"
   ]
  },
  {
   "cell_type": "markdown",
   "id": "9fa3a50a-4b78-4d24-841a-d10748f10193",
   "metadata": {},
   "source": [
    "some of the commonly used librarys in data science are \n",
    " 1. Pandas\n",
    " 2. NumPy\n",
    " 3. matplotlib\n",
    " 4. seaborn  "
   ]
  },
  {
   "cell_type": "markdown",
   "id": "713b8fb0-39fb-4a1e-8d80-19bd67d72bb5",
   "metadata": {},
   "source": [
    "| Data science tools |\n",
    "|--------------------|\n",
    "| Mysql|\n",
    "| postegreSQL|\n",
    "|MongoDB|\n",
    "|Apache Hadoop|"
   ]
  },
  {
   "cell_type": "markdown",
   "id": "ffb928b5-8475-4a31-af5e-e39b9354991d",
   "metadata": {},
   "source": [
    "### Below are a few examples of evaluating arithmatic epressions in python\n"
   ]
  },
  {
   "cell_type": "code",
   "execution_count": 2,
   "id": "e3f1ff1b-0f11-454d-86e8-96188fc420bd",
   "metadata": {
    "tags": []
   },
   "outputs": [
    {
     "name": "stdout",
     "output_type": "stream",
     "text": [
      "17\n"
     ]
    }
   ],
   "source": [
    "# this is simple arithmaticepression to multiply then add numbers\n",
    "result = (3*4)+5\n",
    "print(result)"
   ]
  },
  {
   "cell_type": "code",
   "execution_count": 4,
   "id": "54fe5c48-5a69-4d4c-9846-0fc1d1466cb0",
   "metadata": {
    "tags": []
   },
   "outputs": [
    {
     "name": "stdout",
     "output_type": "stream",
     "text": [
      "3.3333333333333335\n"
     ]
    }
   ],
   "source": [
    "# this will convert 200 min to hours by deviding by 60\n",
    "min = 200\n",
    "hours= min / 60\n",
    "\n",
    "print (hours)"
   ]
  },
  {
   "cell_type": "markdown",
   "id": "21182548-33c5-428d-b127-8afaeca0a904",
   "metadata": {
    "tags": []
   },
   "source": [
    "## Author \n",
    "Zach montgomery"
   ]
  },
  {
   "cell_type": "code",
   "execution_count": null,
   "id": "51f1712c-c2e1-4a93-86ea-21ebfef698a2",
   "metadata": {},
   "outputs": [],
   "source": []
  }
 ],
 "metadata": {
  "kernelspec": {
   "display_name": "Python",
   "language": "python",
   "name": "conda-env-python-py"
  },
  "language_info": {
   "codemirror_mode": {
    "name": "ipython",
    "version": 3
   },
   "file_extension": ".py",
   "mimetype": "text/x-python",
   "name": "python",
   "nbconvert_exporter": "python",
   "pygments_lexer": "ipython3",
   "version": "3.7.12"
  }
 },
 "nbformat": 4,
 "nbformat_minor": 5
}
